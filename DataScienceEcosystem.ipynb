{
 "cells": [
  {
   "attachments": {},
   "cell_type": "markdown",
   "id": "6d659d6a",
   "metadata": {},
   "source": [
    "<b>Exercise 1: Create a Jupyter Notebook\n",
    "</b>"
   ]
  },
  {
   "attachments": {},
   "cell_type": "markdown",
   "id": "61110488",
   "metadata": {},
   "source": [
    "created"
   ]
  },
  {
   "attachments": {},
   "cell_type": "markdown",
   "id": "91dd92a6",
   "metadata": {},
   "source": [
    "<b>Exercise 2: Create markdown cell with title of the notebook</b>"
   ]
  },
  {
   "attachments": {},
   "cell_type": "markdown",
   "id": "5d45bed6",
   "metadata": {},
   "source": [
    "# Data Science Tools and Ecosystem"
   ]
  },
  {
   "attachments": {},
   "cell_type": "markdown",
   "id": "271769e0",
   "metadata": {},
   "source": [
    "<b>Exercise 3 - Create a markdown cell for an introduction</b>"
   ]
  },
  {
   "attachments": {},
   "cell_type": "markdown",
   "id": "df79620f",
   "metadata": {},
   "source": [
    "In this notebook, Data Science Tools and Ecosystem are summarized."
   ]
  },
  {
   "attachments": {},
   "cell_type": "markdown",
   "id": "eb16bf8c",
   "metadata": {},
   "source": [
    "<b>Exercise 4 - Create a markdown cell to list data science languages</b>"
   ]
  },
  {
   "attachments": {},
   "cell_type": "markdown",
   "id": "3e0beb62",
   "metadata": {},
   "source": [
    "Some of the popular languages that Data Scientists use are:\n",
    "<ol>\n",
    "    <li>Python</li>\n",
    "    <li>R</li>\n",
    "    <li>Scala</li>\n",
    "</ol>"
   ]
  },
  {
   "attachments": {},
   "cell_type": "markdown",
   "id": "b12b5d81",
   "metadata": {},
   "source": [
    "<b>Exercise 5 - Create a markdown cell to list data science libraries</b>"
   ]
  },
  {
   "attachments": {},
   "cell_type": "markdown",
   "id": "ef6f8db4",
   "metadata": {},
   "source": [
    "Some of the commonly used libraries used by Data Scientists include:\n",
    "<ol>\n",
    "    <li>Numpy</li>\n",
    "    <li>Pandas</li>\n",
    "    <li>Seaborn</li>\n",
    "    <li>Matplotlib</li>\n",
    "</ol>"
   ]
  },
  {
   "attachments": {},
   "cell_type": "markdown",
   "id": "52e42e35",
   "metadata": {},
   "source": [
    "<b>Exercise 6 - Create a markdown cell with a table of Data Science tools</b>"
   ]
  },
  {
   "attachments": {},
   "cell_type": "markdown",
   "id": "c268e388",
   "metadata": {},
   "source": [
    "<html>\n",
    "<head>\n",
    "<style>\n",
    "table {\n",
    "  font-family: arial, sans-serif;\n",
    "  border-collapse: collapse;\n",
    "  width: 100%;\n",
    "}\n",
    "\n",
    "td, th {\n",
    "  border: 1px solid #dddddd;\n",
    "  text-align: left;\n",
    "  padding: 8px;\n",
    "}\n",
    "\n",
    "tr:nth-child(even) {\n",
    "  background-color: #dddddd;\n",
    "}\n",
    "</style>\n",
    "</head>\n",
    "<body>\n",
    "\n",
    "<h2>Data Science Tools</h2>\n",
    "\n",
    "<table>\n",
    "  <tr>\n",
    "    <th>Data Science Tools</th>\n",
    "  </tr>\n",
    "  <tr>\n",
    "    <td>SAS</td>\n",
    "  </tr>\n",
    "    <tr>\n",
    "    <td>Apache Spark</td>\n",
    "  </tr>\n",
    "    <tr>\n",
    "    <td>BigML</td>\n",
    "  </tr>\n",
    "\n",
    "</table>\n",
    "\n",
    "</body>\n",
    "</html>"
   ]
  },
  {
   "attachments": {},
   "cell_type": "markdown",
   "id": "94ad1894",
   "metadata": {},
   "source": [
    "<b>\n",
    "Exercise 7 - Create a markdown cell introducing arithmetic expression examples</b>"
   ]
  },
  {
   "attachments": {},
   "cell_type": "markdown",
   "id": "247b13a4",
   "metadata": {},
   "source": [
    "### Below are a few examples of evaluating arithmetic expressions in Python\n"
   ]
  },
  {
   "attachments": {},
   "cell_type": "markdown",
   "id": "e4116745",
   "metadata": {},
   "source": [
    "<b>Exercise 8 - Create a code cell to multiply and add numbers</b>"
   ]
  },
  {
   "cell_type": "code",
   "execution_count": 1,
   "id": "e2f1a0e4",
   "metadata": {},
   "outputs": [
    {
     "data": {
      "text/plain": [
       "17"
      ]
     },
     "execution_count": 1,
     "metadata": {},
     "output_type": "execute_result"
    }
   ],
   "source": [
    "# This a simple arithmetic expression to mutiply then add integers\n",
    "(3*4)+5"
   ]
  },
  {
   "attachments": {},
   "cell_type": "markdown",
   "id": "910c430d",
   "metadata": {},
   "source": [
    "<b>Exercise 9 - Create a code cell to convert minutes to hours</b>"
   ]
  },
  {
   "cell_type": "code",
   "execution_count": 5,
   "id": "9bbe17d4",
   "metadata": {},
   "outputs": [
    {
     "name": "stdout",
     "output_type": "stream",
     "text": [
      "3.3333333333333335 hours\n"
     ]
    }
   ],
   "source": [
    "# This will convert 200 minutes to hours by diving by 60\n",
    "\n",
    "days = 0\n",
    "hours = 0\n",
    "mins = 0\n",
    "\n",
    "time = 200\n",
    "hours = time / 60\n",
    "print(hours, 'hours')\n"
   ]
  },
  {
   "attachments": {},
   "cell_type": "markdown",
   "id": "212181be",
   "metadata": {},
   "source": [
    "<b>Exercise 10 - Insert a markdown cell to list Objectives</b>"
   ]
  },
  {
   "attachments": {},
   "cell_type": "markdown",
   "id": "b0166e54",
   "metadata": {},
   "source": [
    "<b>Objectives</b>\n",
    "<ul>\n",
    "    <li>Python</li>\n",
    "    <li>R</li>\n",
    "    <li>Scala</li>\n",
    "</ul>"
   ]
  },
  {
   "attachments": {},
   "cell_type": "markdown",
   "id": "f06eabea",
   "metadata": {},
   "source": [
    "<b>Exercise 11 - Create a markdown cell to indicate the Author's name</b>"
   ]
  },
  {
   "attachments": {},
   "cell_type": "markdown",
   "id": "6bb68ecc",
   "metadata": {},
   "source": [
    "## Author\n",
    "Istiaq Ahmmed Fahad"
   ]
  },
  {
   "attachments": {},
   "cell_type": "markdown",
   "id": "3cfd1fc0",
   "metadata": {},
   "source": [
    "<b>Exercise 12 - Share your notebook through GitHub</b>"
   ]
  },
  {
   "attachments": {},
   "cell_type": "markdown",
   "id": "ee4f3e58",
   "metadata": {},
   "source": [
    "https://github.com/iaf12/Coursera-IBM-Data-Science-Course-content/blob/main/DataScienceEcosystem.ipynb"
   ]
  },
  {
   "cell_type": "code",
   "execution_count": null,
   "id": "276f4642",
   "metadata": {},
   "outputs": [],
   "source": []
  },
  {
   "cell_type": "code",
   "execution_count": null,
   "id": "9fa96b91",
   "metadata": {},
   "outputs": [],
   "source": []
  }
 ],
 "metadata": {
  "kernelspec": {
   "display_name": "Python 3 (ipykernel)",
   "language": "python",
   "name": "python3"
  },
  "language_info": {
   "codemirror_mode": {
    "name": "ipython",
    "version": 3
   },
   "file_extension": ".py",
   "mimetype": "text/x-python",
   "name": "python",
   "nbconvert_exporter": "python",
   "pygments_lexer": "ipython3",
   "version": "3.9.7"
  }
 },
 "nbformat": 4,
 "nbformat_minor": 5
}
